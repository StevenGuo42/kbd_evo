{
 "cells": [
  {
   "cell_type": "code",
   "execution_count": 81,
   "metadata": {},
   "outputs": [],
   "source": [
    "import numpy as np\n",
    "import matplotlib.pyplot as plt\n",
    "from importlib import reload\n",
    "\n",
    "import kbd_evo      # for testing\n",
    "reload(kbd_evo)     # for testing\n",
    "from kbd_evo import keybd\n"
   ]
  },
  {
   "cell_type": "code",
   "execution_count": 82,
   "metadata": {},
   "outputs": [
    {
     "name": "stdout",
     "output_type": "stream",
     "text": [
      "loading layout from:  F:\\Books&Document\\_University\\side_proj\\kbd_evo\\layouts\\ortholinear.json\n",
      "\n",
      "coordinates: \n",
      "[0. 0.] [1. 0.] [2. 0.] [3. 0.] [4. 0.] [5. 0.] [6. 0.] [7. 0.] [8. 0.] [9. 0.] \n",
      "[0. 1.] [1. 1.] [2. 1.] [3. 1.] [4. 1.] [5. 1.] [6. 1.] [7. 1.] [8. 1.] [9. 1.] \n",
      "[0. 2.] [1. 2.] [2. 2.] [3. 2.] [4. 2.] [5. 2.] [6. 2.] [7. 2.] [8. 2.] [9. 2.] \n",
      "\n",
      "hand: \n",
      "0 0 0 0 0 1 1 1 1 1 \n",
      "0 0 0 0 0 1 1 1 1 1 \n",
      "0 0 0 0 0 1 1 1 1 1 \n",
      "\n",
      "finger: \n",
      "0 1 2 3 4 4 3 2 1 0 \n",
      "0 1 2 3 4 4 3 2 1 0 \n",
      "0 1 2 3 4 4 3 2 1 0 \n",
      "\n",
      "row: \n",
      "2 2 2 2 2 2 2 2 2 2 \n",
      "0 0 0 0 0 0 0 0 0 0 \n",
      "1 1 1 1 1 1 1 1 1 1 \n",
      "\n"
     ]
    }
   ],
   "source": [
    "kbd = keybd(kbd_type = \"ortho\")\n",
    "print(\"\\ncoordinates: \")\n",
    "kbd.print_by_layout(kbd.coords, to_int = False)\n",
    "print(\"hand: \")\n",
    "kbd.print_by_layout(kbd.idx_meta[:, 0])\n",
    "print(\"finger: \")\n",
    "kbd.print_by_layout(kbd.idx_meta[:, 1])\n",
    "print(\"row: \")\n",
    "kbd.print_by_layout(kbd.idx_meta[:, 2])"
   ]
  },
  {
   "cell_type": "code",
   "execution_count": null,
   "metadata": {},
   "outputs": [],
   "source": []
  }
 ],
 "metadata": {
  "kernelspec": {
   "display_name": "torch39",
   "language": "python",
   "name": "python3"
  },
  "language_info": {
   "codemirror_mode": {
    "name": "ipython",
    "version": 3
   },
   "file_extension": ".py",
   "mimetype": "text/x-python",
   "name": "python",
   "nbconvert_exporter": "python",
   "pygments_lexer": "ipython3",
   "version": "3.9.13"
  },
  "orig_nbformat": 4,
  "vscode": {
   "interpreter": {
    "hash": "eee5412e24c2d46d8942ae48a0e89ddba2a8280a219caf7258a42e8a52db9f8d"
   }
  }
 },
 "nbformat": 4,
 "nbformat_minor": 2
}
