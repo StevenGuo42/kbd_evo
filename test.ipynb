{
 "cells": [
  {
   "cell_type": "markdown",
   "metadata": {},
   "source": [
    "# test"
   ]
  },
  {
   "cell_type": "code",
   "execution_count": 1,
   "metadata": {},
   "outputs": [],
   "source": [
    "import os\n",
    "import json\n",
    "from damsenviet.kle import Keyboard\n"
   ]
  },
  {
   "cell_type": "code",
   "execution_count": 2,
   "metadata": {},
   "outputs": [
    {
     "name": "stdout",
     "output_type": "stream",
     "text": [
      "F:\\Books&Document\\_University\\side_proj\\kbd_evo\\layouts\\ortholinear.json\n"
     ]
    }
   ],
   "source": [
    "# relative to this file\n",
    "json_relative_file_path = \"./layouts/ortholinear.json\"\n",
    "json_absolute_file_path = os.path.abspath(\n",
    "    os.path.join(\n",
    "        os.path.dirname(os.path.realpath('__file__')),\n",
    "        json_relative_file_path,\n",
    "    )\n",
    ")\n",
    "\n",
    "print(json_absolute_file_path)\n",
    "\n",
    "with open(json_absolute_file_path, 'r', encoding='utf-8') as f:\n",
    "    keyboard = Keyboard.from_json(\n",
    "        json.load(f)\n",
    "    )\n"
   ]
  },
  {
   "cell_type": "code",
   "execution_count": 3,
   "metadata": {},
   "outputs": [
    {
     "name": "stdout",
     "output_type": "stream",
     "text": [
      "Q : x, y= 0.0 0.0 ; w, h= 1.0 1.0\n",
      "W : x, y= 1.0 0.0 ; w, h= 1.0 1.0\n",
      "E : x, y= 2.0 0.0 ; w, h= 1.0 1.0\n",
      "R : x, y= 3.0 0.0 ; w, h= 1.0 1.0\n",
      "T : x, y= 4.0 0.0 ; w, h= 1.0 1.0\n",
      "Y : x, y= 5.0 0.0 ; w, h= 1.0 1.0\n",
      "U : x, y= 6.0 0.0 ; w, h= 1.0 1.0\n",
      "I : x, y= 7.0 0.0 ; w, h= 1.0 1.0\n",
      "O : x, y= 8.0 0.0 ; w, h= 1.0 1.0\n",
      "P : x, y= 9.0 0.0 ; w, h= 1.0 1.0\n",
      "A : x, y= 0.0 1.0 ; w, h= 1.0 1.0\n",
      "S : x, y= 1.0 1.0 ; w, h= 1.0 1.0\n",
      "D : x, y= 2.0 1.0 ; w, h= 1.0 1.0\n",
      "F : x, y= 3.0 1.0 ; w, h= 1.0 1.0\n",
      "G : x, y= 4.0 1.0 ; w, h= 1.0 1.0\n",
      "H : x, y= 5.0 1.0 ; w, h= 1.0 1.0\n",
      "J : x, y= 6.0 1.0 ; w, h= 1.0 1.0\n",
      "K : x, y= 7.0 1.0 ; w, h= 1.0 1.0\n",
      "L : x, y= 8.0 1.0 ; w, h= 1.0 1.0\n",
      ": : x, y= 9.0 1.0 ; w, h= 1.0 1.0\n",
      "Z : x, y= 0.0 2.0 ; w, h= 1.0 1.0\n",
      "X : x, y= 1.0 2.0 ; w, h= 1.0 1.0\n",
      "C : x, y= 2.0 2.0 ; w, h= 1.0 1.0\n",
      "V : x, y= 3.0 2.0 ; w, h= 1.0 1.0\n",
      "B : x, y= 4.0 2.0 ; w, h= 1.0 1.0\n",
      "N : x, y= 5.0 2.0 ; w, h= 1.0 1.0\n",
      "M : x, y= 6.0 2.0 ; w, h= 1.0 1.0\n",
      "< : x, y= 7.0 2.0 ; w, h= 1.0 1.0\n",
      "> : x, y= 8.0 2.0 ; w, h= 1.0 1.0\n",
      "? : x, y= 9.0 2.0 ; w, h= 1.0 1.0\n"
     ]
    }
   ],
   "source": [
    "    \n",
    "for key in keyboard.keys:\n",
    "    print(key.labels[0].text, \": x, y=\", key.x, key.y, \"; w, h=\", key.width, key.height)"
   ]
  },
  {
   "cell_type": "code",
   "execution_count": 4,
   "metadata": {},
   "outputs": [],
   "source": [
    "coords = {}\n",
    "idx = 0\n",
    "for key in keyboard.keys:\n",
    "    coords[idx] = (key.x+0.5*key.width, key.y+0.5*key.height) # center of key\n",
    "    idx += 1"
   ]
  }
 ],
 "metadata": {
  "kernelspec": {
   "display_name": "Python 3.9.13 ('torch39')",
   "language": "python",
   "name": "python3"
  },
  "language_info": {
   "codemirror_mode": {
    "name": "ipython",
    "version": 3
   },
   "file_extension": ".py",
   "mimetype": "text/x-python",
   "name": "python",
   "nbconvert_exporter": "python",
   "pygments_lexer": "ipython3",
   "version": "3.9.13 (main, Aug 25 2022, 23:51:50) [MSC v.1916 64 bit (AMD64)]"
  },
  "orig_nbformat": 4,
  "vscode": {
   "interpreter": {
    "hash": "eee5412e24c2d46d8942ae48a0e89ddba2a8280a219caf7258a42e8a52db9f8d"
   }
  }
 },
 "nbformat": 4,
 "nbformat_minor": 2
}
